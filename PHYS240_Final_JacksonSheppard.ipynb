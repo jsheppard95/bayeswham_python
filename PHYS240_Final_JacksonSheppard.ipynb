{
 "cells": [
  {
   "cell_type": "code",
   "execution_count": 1,
   "id": "5ea7812e",
   "metadata": {},
   "outputs": [],
   "source": [
    "# Here we replicate the resuls of Andrew L. Ferguson's Bayesian Approach to Free Energy Estimation\n",
    "# Uncertainty quantification, and how these relate to the traditional Weighted Histogram Analysis Method\n",
    "# (WHAM) used to calculate unbiased free energy surfaces from biased protein simulation data (a proecure\n",
    "# know as Umbrella Sampling)"
   ]
  },
  {
   "cell_type": "code",
   "execution_count": null,
   "id": "7ec3d1a4",
   "metadata": {},
   "outputs": [],
   "source": [
    "# Step 1: Run Ferguson's scripts without any modification - generate the plots for alanine dipeptide\n"
   ]
  }
 ],
 "metadata": {
  "kernelspec": {
   "display_name": "Python 3 (ipykernel)",
   "language": "python",
   "name": "python3"
  },
  "language_info": {
   "codemirror_mode": {
    "name": "ipython",
    "version": 3
   },
   "file_extension": ".py",
   "mimetype": "text/x-python",
   "name": "python",
   "nbconvert_exporter": "python",
   "pygments_lexer": "ipython3",
   "version": "3.9.7"
  }
 },
 "nbformat": 4,
 "nbformat_minor": 5
}
