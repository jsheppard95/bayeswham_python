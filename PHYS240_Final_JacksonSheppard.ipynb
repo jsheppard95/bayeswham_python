{
 "cells": [
  {
   "cell_type": "markdown",
   "id": "latin-draft",
   "metadata": {},
   "source": [
    "# PHYS 240: Final Project\n",
    "## Jackson Sheppard"
   ]
  },
  {
   "cell_type": "code",
   "execution_count": 5,
   "id": "worth-ownership",
   "metadata": {},
   "outputs": [
    {
     "data": {
      "application/javascript": [
       "MathJax.Hub.Config({\n",
       "    TeX: { equationNumbers: { autoNumber: \"AMS\" } }\n",
       "});\n"
      ],
      "text/plain": [
       "<IPython.core.display.Javascript object>"
      ]
     },
     "metadata": {},
     "output_type": "display_data"
    }
   ],
   "source": [
    "%%javascript\n",
    "MathJax.Hub.Config({\n",
    "    TeX: { equationNumbers: { autoNumber: \"AMS\" } }\n",
    "});"
   ]
  },
  {
   "cell_type": "markdown",
   "id": "static-dealing",
   "metadata": {},
   "source": [
    "# Theory\n",
    "## Molecular Dynamics and the Weighted Histogram Analysis Method"
   ]
  },
  {
   "cell_type": "markdown",
   "id": "divine-contractor",
   "metadata": {},
   "source": [
    "Here we present a literature study of \"BayesWHAM: A Bayesian Approach for Free Eenergy Estimation, Reweighting,\n",
    "and Uncertainty Quantification in the Weighted Histogram Analysis Method\", by Andrew L. Ferguson. The original\n",
    "work can be accessed through [onlinelibrary.wiley.com](https://onlinelibrary.wiley.com/doi/10.1002/jcc.24800)\n",
    "with the original codebase and associated documentation available through\n",
    "[BitBucket](https://bitbucket.org/andrewlferguson/bayeswham_python/src/master/). Updated code for the purposes of\n",
    "this analysis can be accessed through [GitHub](https://github.com/jsheppard95/bayeswham_python).\n",
    "\n",
    "The Weighted Histogram Analysis Method (WHAM) is a technique to estimate free energy surfaces of molecular system\n",
    "simulated using Molecular Dynamics (MD), a simulation technique involving the numerical integration of Newton's\n",
    "second law for a collection of particles, tracking particle positions and velocities at each time step to yield\n",
    "a molecular trajectory. One can then calculate thermodynamic properties as time averages over the trajectory."
   ]
  },
  {
   "cell_type": "markdown",
   "id": "regulation-martial",
   "metadata": {},
   "source": [
    "MD simulations are performed using thermodynamic ensembles. Examples include the canonical $NVT$ ensemble\n",
    "(constant number of particles $N$, volume $V$, and temperature $T$) and the isothermal-isobaric $NPT$ ensemble\n",
    "(where now the pressure $P$ is held constant in adddition to $N$ and $T$). These simulation ensembles have\n",
    "corresponding distributions of microstates given by Boltzmann factors, e.g for the canonical ensemble:\n",
    "\n",
    "\\begin{equation}\n",
    "\\label{eq:1}\n",
    "P(\\underline{r}^N) = \\frac{e^{-\\beta U(\\underline{r}^N)}}{Z}\n",
    "\\end{equation}\n",
    "\n",
    "Where a given microstate is defined by the $3N$ dimension vector $\\underline{r}^N$ ($N$ particles, each defined by\n",
    "three coordinates), $\\beta = 1/k_BT$ is the inverse temperature (where $k_B$ is Boltzmann's constant), and\n",
    "$Z = \\int d\\underline{r}^N e^{-\\beta U(\\underline{r}^N)}$ is the partition function for the canonical ensemble\n",
    "that also serves as the normalization constant for the distribution defined in equation \\ref{eq:1}.\n",
    "$U(\\underline{r}^N)$ then defines a potential energy surface (PES), but due to it's high dimensionality\n",
    "($N \\approx 10^3$ for typical simulations), this quantity can be difficult to interpret. Instead, a free energy\n",
    "surface (FES) is defined in terms of a set of $m < 3N$ collective order parameters $\\underline{\\psi}$ that serve\n",
    "as a low-dimensional projection of the PES, mapping multiple configurations to the same collective coordinates.\n",
    "This projection is achived through the dirac delta function that picks out configurations with a given value of\n",
    "$\\underline{\\psi}$:\n",
    "\n",
    "\\begin{equation}\n",
    "\\label{eq:2}\n",
    "P(\\underline{\\psi}) = \\int{P(\\underline{r}^N) \\delta ( \\underline{\\psi} ( \\underline{r}^N )- \\underline{\\psi})}d\\underline{r}^N\n",
    "\\end{equation}\n",
    "\n",
    "And for the canonical ensemble:\n",
    "\n",
    "\\begin{equation}\n",
    "\\label{eq:3}\n",
    "P(\\underline{\\psi}) = \\frac{1}{Z} \\int{ e^{-\\beta U(\\underline{r}^N)} \\delta ( \\underline{\\psi} ( \\underline{r}^N )- \\underline{\\psi})}d\\underline{r}^N\n",
    "\\end{equation}\n",
    "\n",
    "The free energy surface (FES) is then defined in terms of the collective order parameters as:\n",
    "\n",
    "\\begin{equation}\n",
    "\\label{eq:F}\n",
    "F(\\underline{\\psi}) = -k_BT\\ln{(P(\\underline{\\psi}))}\n",
    "\\end{equation}\n",
    "\n",
    "The collective order parameters can then be determined using dimensionality reduction methods such as principal\n",
    "component analysis, or by considering specific parameters relevant to the physics of the system of interest, e.g\n",
    "the dihedral bond angles $\\phi$ and $\\psi$ of the molecular system.\n",
    "\n",
    "The reduction of the PES to the lower dimensional FES is still insufficient to overcome high potential energy\n",
    "barriers typical of molecular systems, and thus unbiased MD simulations would not allow for an extensive search\n",
    "of the $\\underline{\\psi}$ parameter space. As a remedy, a technique known as umbrella sampling is employed. This\n",
    "process includes biasing the potential energy with typically harmonic restraining potentials of changing center\n",
    "locations $\\underline{\\psi_i}$.\n",
    "\n",
    "\\begin{equation}\n",
    "w_i( \\underline{ \\psi }( \\underline{r}^N ); \\textbf{ K }_i, \\underline{\\psi_i}) = \\frac{1}{2}(\\underline{ \\psi }( \\underline{r}^N ) - \\underline{\\psi_i}))^T \\textbf{ K }_i (\\underline{ \\psi }( \\underline{r}^N ) - \\underline{\\psi_i}))\n",
    "\\end{equation}\n",
    "\n",
    "Here $\\textbf{K}_i$ is an $m$-by-$m$ diagonal matrix of force constants in each dimension of $\\psi$. One can then\n",
    "perform repeated simulations with changing center locations to complete a reaonsable exploration of parameter\n",
    "space in the viscinity of each $\\psi_i$. Ferguson then shows then one can determine an estimate for the unbiased\n",
    "distribution of microstates in terms of the collective order parameters from the biased simulation $i$ through\n",
    "the following relationship:\n",
    "\n",
    "\\begin{equation}\n",
    "\\label{WHAM_est}\n",
    "\\hat{P}_i(\\underline{\\psi}) = \\frac{n_i(\\underline{\\psi})}{N_i c_i(\\underline{\\psi})f_i}\n",
    "\\end{equation}\n",
    "\n",
    "where $n_i(\\underline{\\psi})$ is the number density of observation of the system over the course of the biased\n",
    "simulation $i$ in a differential volume element $d\\underline{\\psi}$, $N_i$ is the total number of observations\n",
    "extracted in the simulation trajectory, $c_i(\\underline{\\psi}) = e^{-\\beta w_i}$ is the Boltzmann factor of the\n",
    "bias potential, and $f_i = Z/Z_i^B$ is the ratio of partitition functions of the unbiased\n",
    "system and the biased system. The free energy is then related to the partition function by $-\\beta F = \\ln{Z}$,\n",
    "so we can write this ratio as $f_i = e^{-\\beta(F - F_i^B)}$ making it clear that this is the shift in free energy\n",
    "between the biased and unbiased systems.\n",
    "\n",
    "We thus have an estimate of the unbiased FES by application of equation \\ref{eq:F}, i.e\n",
    "\n",
    "\\begin{equation}\n",
    "\\hat{F}_i(\\underline{\\psi}) = -k_BT\\ln{\\hat{P}_i(\\underline{\\psi})}\n",
    "\\end{equation}\n",
    "\n",
    "## Bayesian Approach to WHAM\n",
    "\n",
    "It is thus clear that a typical umbrella sampling data set for which a WHAM analysis method could be employed\n",
    "would include a series of MD simulations indexed $i=1,...S$, each with a different bias potential $w_i$, and\n",
    "corresponding trajectories of collective order parameters $\\underline{\\psi}$. One can then view equation\n",
    "\\ref{WHAM_est} as a relationship between the biased distribution $p_{i,l}^B = n_{i,l}/N_i$ (we now include index\n",
    "$l$ to distinguish from the simulation index $i$, where $l$ is now a bin number of the $\\underline{\\psi}$\n",
    "coordinates discretized into $M$ bins, i.e $l=1,..., M$) and the unbiased distribution $\\hat{p}_{i,l}$:\n",
    "\n",
    "\\begin{equation}\n",
    "\\label{eq:unbias-est}\n",
    "\\hat{p}_{i,l} = \\frac{p_{i,l}^B}{c_{i,l}f_i}\n",
    "\\end{equation}\n",
    "\n",
    "where we now consider $c_{i,l}$ as the Boltzmann factor of the bias potential in bin $l$ of simulation $i$. The\n",
    "Bayesian approach to this problem is then to find the best unbiased distribution $\\{p_l\\}$ (the model) given our\n",
    "biased simulation bin counts $\\{n_{i,l}\\}$ (the data). This inverts equation \\ref{eq:unbias-est} to be viewed as\n",
    "a relationship between the true unbiased distribution $\\{ p_l \\}$ and a corresponding predicted biased\n",
    "distribution $\\hat{p}_{i,l}^B$:\n",
    "\n",
    "\\begin{equation}\n",
    "\\label{eq:13}\n",
    "\\hat{p}_{i,l}^B = p_lc_{i,l}f_i\n",
    "\\end{equation}\n",
    "\n",
    "We thus proceed using Bayes' Theorem:\n",
    "\n",
    "\\begin{equation}\n",
    "\\label{eq:15}\n",
    "P(\\{ p_l \\}|\\{ n_{i,l} \\} ) = \\frac{P(\\{ n_{i,l} \\}|\\{ p_l \\})P(\\{ p_l \\})}{P(\\{ n_{i,l} \\})}\n",
    "\\end{equation}\n",
    "\n",
    "$P(\\{ p_l \\}|\\{ n_{i,l} \\} )$ is referred to as the posterior probability of the unbiased distribution\n",
    "$\\{ p_l \\}$ given the data $\\{ n_{i,l} \\}$, $P(\\{ n_{i,l} \\}|\\{ p_l \\})$ is the probability of the data given the\n",
    "model (the likelihood), $P(\\{ p_l \\})$ is the prior probability of our model before observing data, and\n",
    "$P(\\{ n_{i,l} \\})$ is the probability of observing our particular data set. $P(\\{ n_{i,l} \\})$ is referred to as\n",
    "the evidence but can be interpreted as a normalization factor of the posterior, i.e\n",
    "$P(\\{ n_{i,l} \\}) = \\int{P(\\{ n_{i,l} \\}|\\{ p_l \\})P(\\{ p_l \\})}d\\{ p_l \\}$. We then determine our best model\n",
    "by maximization of this posterior distribution. We thus see that a uniform prior\n",
    "($P(\\{ p_l \\})$ = C), would cancel through this normalization, and the posterior distribution would be the same\n",
    "as the normalized likelihood, and thus a maximum posterior estimate of the unbiased distribution would be the\n",
    "same as a maximum likelihood estimate. This however does not need to be the case, and Ferguson instead develops\n",
    "maximum posterior estimates for arbitrary priors.\n",
    "\n",
    "The task is now to express the likelihood function of observing the data (biased bin counts) given the true\n",
    "unbiased distribution $\\{ p_l \\}$. Ferguson does so by considering the likelihood for a single simulation $i$ as\n",
    "a multinomial distribution, i.e:\n",
    "\n",
    "\\begin{equation}\n",
    "\\mathcal{L}_i = P_i(n_{i,1}, n_{i,2}, ..., n_{i,M}|\\{p_l\\}) = \\frac{N_i!}{\\prod_{l=1}^Mn_{i,l}!}\\prod_{l=1}^M (\\hat{p}_{i,l}^B)^{p_{i,l}^BN_i} = \\frac{(\\sum_{l=1}^M n_{i,l})!}{\\prod_{l=1}^Mn_{i,l}!}\\prod_{l=1}^M (p_lc_{i,l}f_i)^{n_{i,l}}\n",
    "\\end{equation}\n",
    "\n",
    "where the last equality follows from equation \\ref{eq:13} and the fact that $N_i = \\sum_{l=1}^M n_{i,l}$.\n",
    "Assuming each biased simulation is independent, the total likelihood is then given by the product over the $S$\n",
    "simulations of the individual likelihoods $\\mathcal{L}_i$. Ferguson simplifies this expression and finds:\n",
    "\n",
    "\\begin{equation}\n",
    "\\mathcal{L} = P(\\{ n_{i,l} \\}|\\{ p_l \\}) = D(\\{ n_{i,l} \\},\\{ c_{i,l} \\}) \\prod_{l=1}^M p_l^{M_l} \\prod_{i = 1}^S \\bigg( \\sum_{l=1}^M p_l c_{i,l} \\bigg)^{-N_i}\n",
    "\\end{equation}\n",
    "\n",
    "where $D(\\{ n_{i,l} \\},\\{ c_{i,l} \\})$ is a multiplicative factor that importantly does not depend on the desired\n",
    "unbiased distribution $p_{l}$, $N_i = \\sum_{l=1}^M n_{i, l}$ is the total number of observations in simulation\n",
    "$i$ aggregated over all $M$ bins, and $M_l = \\sum_{i=1}^S n_{i, 1}$ is the total number of observations in bin\n",
    "$l$ aggregated over all $S$ simulations.\n",
    "\n",
    "## Maximum Posterior/Maximum Likelihood Estimates of the Unbiased FES\n",
    "\n",
    "Equipped with the likelihood function, Ferguson develops a best estimate for the true unbiased distribution by\n",
    "maximization of the posterior distribution defined in equation \\ref{eq:15}. As stated previously, this is\n",
    "equivalent to maximizing the likelihood function itself in the case of a uniform prior, but Ferguson performs\n",
    "this maximization for arbitrary priors using the method of Langrange multipliers. This yields the following\n",
    "estimate of the distribution of unbiased counts $\\{ p_l \\}^{MAP}$:\n",
    "\n",
    "\\begin{equation}\n",
    "\\label{eq:25}\n",
    "p_k = \\frac{M_k + p_k\\frac{\\partial\\ln{P(\\{ p_l \\})}}{\\partial p_k}|_{p_{l \\neq k}}}{\\sum_{i=1}^S N_ic_{i,k}f_i + \\sum_{k=1}^M p_k\\frac{\\partial\\ln{P(\\{ p_l \\})}}{\\partial p_k}|_{p_{l \\neq k}}}, \\quad k=1...M\n",
    "\\end{equation}\n",
    "\n",
    "\\begin{equation}\n",
    "\\label{eq:26}\n",
    "f_i^{-1} = \\sum_{l=1}^Mp_lc_{i,l}, \\quad i=1...S\n",
    "\\end{equation}\n",
    "\n",
    "where equation \\ref{eq:26} follows from normalization of the biased distribution of bin counts. This then leads\n",
    "to a best estimate of the unbiased FES over the discretized collective coordinates, $\\{ F_l \\}^{MAP}$:\n",
    "\n",
    "\\begin{equation}\n",
    "F_k = -k_BT\\ln{\\big( \\frac{p_k^{MAP}}{V_k} \\big)} + C, \\quad k=1...M\n",
    "\\end{equation}\n",
    "\n",
    "where $V_k$ is the volume of bin $k$ in the collective parameters and C is an arbitrary constant corresponding\n",
    "to the fact that only energy differences are meaningful. Given a data set of umbrella sampled MD simulations,\n",
    "one can then solve equation \\ref{eq:25} for the distribution of unbiased counts by iteration of $p_k$ until\n",
    "self-consistency is achieved. We note however that in the case of a uniform prior where the maximum posterior\n",
    "distribution estimate is equivalent to the maximum likelihood estimate and\n",
    "$\\partial \\ln{P(\\{ p_l \\})}/\\partial p_k = 0$, equation \\ref{eq:25} reduces to that for $\\{p_l\\}^{ML}$:\n",
    "\n",
    "\\begin{equation}\n",
    "p_k = \\frac{M_k}{\\sum_{i=1}^S N_ic_{i,k}f_i}, \\quad k=1...M\n",
    "\\end{equation}\n",
    "\n",
    "Thus for a uniform prior, no iteration is necessary and the unbiased distribution can simply be calculated\n",
    "from the biased data set. Ferguson then describes the iterative process to solve equation \\ref{eq:25} for an\n",
    "arbitrary prior in Algorithm $1$ of his work, summarized below in a Pythonic formulation:\n",
    "\n",
    "```\n",
    "def BayesWHAM(data, bias_boltz_fact, prior, tol):\n",
    "    \"\"\"\n",
    "    data : {n_{i, l}}, Biased simulation counts\n",
    "    bias_boltz_fact : {c_{i, l}}, Bias potential boltzmann fatcors\n",
    "    prior : functional form of the prior distribution\n",
    "    tol : self-consistency tolerance\n",
    "    \"\"\"\n",
    "    # Initialization\n",
    "    M_k = np.sum(data[i])  # Sum over i, do so for k = 1...M\n",
    "    N_i = np.sum(data[k])  # Sum over k (= l), do so for i = 1...S\n",
    "    p_k = 1/M  # k = 1...M, initial guess for unbiased distribution = uniform\n",
    "    f_i = np.sum(p_k * bias_boltz_fact[k])**-1  # Sum over k (= l), do so for i = 1...S\n",
    "    dp_max = float(\"Inf\")  # Large value for initial deviation from self-consistency\n",
    "    \n",
    "    while dp_max > tol:\n",
    "        # Save the old distribution\n",
    "        p_k_old = p_k\n",
    "        # If uniform prior, no need to iterate, just solve for the best distribution \n",
    "        if prior = None:\n",
    "            p_k = M_k/np.sum(N_i * bias_boltz_fact[i] * f_i)  # Sum over i, do so for k = 1...M\n",
    "        else:\n",
    "            # Otherwise we need to iterate by applying the BayesWHAM equation\n",
    "            dp_max_inner = float(\"Inf\")\n",
    "            p_k_inner = p_k\n",
    "            while dp_max_inner > tol:\n",
    "                p_k_inner_old = p_k_inner\n",
    "                p_k_inner = BayesWHAM(p_k_inner)\n",
    "                dp_max_inner = max(p_k_inner - p_k_inner_old)  # max over k\n",
    "            p_k = p_k_inner\n",
    "        # Renormalize the distribution\n",
    "        p_k = p_k/np.sum(p_k)\n",
    "        # Recalculate f_i\n",
    "        f_i = np.sum(p_k * bias_boltz_fact[k])  # Sum over k (= l), do so for i = 1...S\n",
    "        # Recalculate dp_max\n",
    "        dp_max = max(p_k - p_k_old)  # max over k\n",
    "\n",
    "    return p_k\n",
    "```\n",
    "\n",
    "## Uncertainty Quantification by Markov Chain Monte Carlo\n",
    "Ferguson continues his analysis to formulate a routine to calculate the uncertainty in the FES predicted by\n",
    "maximization of the posterior distribution using the Metropolis-Hastings (MH) implementation of Markov Chain\n",
    "Monte Carlo (MCMC), in which a sequence of realizations of the unbiased distribution $\\{p_l\\}$ is generated as a\n",
    "Markov Chain for which statistics can be calculated from. These realizations are condisered samples of the true\n",
    "posterior distribution. Enforcing that one accept/reject proposal moves in the distribution of $\\{p_l\\}$\n",
    "according to the rule of detailed balance, Ferguson derives the following acceptence criterion for the random\n",
    "walk in $\\{p_l\\}$-space employed by the Metropolis-Hastings algorithm:\n",
    "\n",
    "\\begin{equation}\n",
    "\\label{eq:44}\n",
    "\\alpha(\\{p_l\\}^\\nu|\\{p_l\\}^\\mu) = \\text{min}\\bigg[ \\exp{\\big( \\sum_{l=1}^M M_l\\ln{(\\frac{p_l^\\nu}{p_l^\\mu})} + \\sum_{i=1}^SN_i\\ln{(\\frac{f_i^\\nu}{f_i^\\mu})} + \\ln{(\\frac{P(\\{p_l\\}^\\nu)}{P(\\{p_l\\}^\\mu)})} \\big)}, 1 \\bigg]\n",
    "\\end{equation}\n",
    "\n",
    "where $\\nu$ is the proposed state and $\\mu$ is the current state of the random walk. We again note that the last\n",
    "term of exponential in equation \\ref{eq:44} vanishes in the case of a uniform prior. Given this acceptance\n",
    "criteria, one can generate a series of unbiased distributions $\\{p_{l,q}\\}^{MH}$, where the index $q$ now\n",
    "indicates the MCMC step number. One can then determine a sequence of free energy curves $\\{F_{l,q}\\}^{MH}$, each\n",
    "generated from a different sample of the true posterior distribution of unbiased counts:\n",
    "\n",
    "\\begin{equation}\n",
    "\\label{eq:48}\n",
    "F_{k, q} = -k_BT\\ln{\\big( \\frac{p_k^{MH}}{V_k} \\big)} + C_q, \\quad k=1...M\n",
    "\\end{equation}\n",
    "\n",
    "Having expressed the acceptence criterion in terms of biased trajectory parameters and the unbiased distribution\n",
    "at the current and proposed Markov Chain steps, Ferguson describes a procedure to store the posterior sampled\n",
    "distributions in Algorithm $2$ of his work, again reformulated as Pythonic pseudo-code:\n",
    "\n",
    "```\n",
    "def BayesMH(data, bias_boltz_fact, prior, guess, nMCMC, dp)\n",
    "    \"\"\"\n",
    "    data : {n_{i, l}}, Biased simulation counts\n",
    "    bias_boltz_fact : {c_{i, l}}, Bias potential boltzmann fatcors\n",
    "    prior : functional form of the prior distribution\n",
    "    guess : initial guess for unbiased distribution -> maximum posterior result p_k^MAP\n",
    "    nMCMC : number of Markov Chain Monte Carlo steps to conduct\n",
    "    dp : maximum proposal step size\n",
    "    \"\"\"\n",
    "    # Initialization\n",
    "    M_k = np.sum(data[i])  # Sum over i, do so for k = 1...M\n",
    "    N_i = np.sum(data[k])  # Sum over k (= l), do so for i = 1...S\n",
    "    p_k = guess  # k = 1...M, initial guess for unbiased distribution = uniform\n",
    "    f_i = np.sum(p_k * bias_boltz_fact[k])**-1  # Sum over k (= l), do so for i = 1...S\n",
    "    \n",
    "    p_k_MH = np.zeros(nMCMC)\n",
    "    for q in range(nMCMC):\n",
    "        # Save the current state\n",
    "        p_k_prime = p_k\n",
    "        f_i_prime = f_i\n",
    "        # Select a random bin to maintain symmetry required for detailed balance\n",
    "        bin = np.randint(1, M)\n",
    "        # Symmetric random walk trial move:\n",
    "        p_k[bin] = p_k[bin] + (2*np.rand(0, 1) - 0.5)*dp\n",
    "        # Renormalize the resulting distribution\n",
    "        p_k = p_k/np.sum(p_k)\n",
    "        # Update f_i\n",
    "        f_i = np.sum(p_k * bias_boltz_fact[k])**-1\n",
    "        # Calculate likelihood ratio:\n",
    "        r = AcceptanceCriterionExp(p_k, p_k_prime, f_i, f_i_prime, prior(p_k), prior(p_k_prime))\n",
    "        if randFloat(0, 1) > r:\n",
    "            # Reject move and revert to the previous state\n",
    "            p_k = p_k_prime\n",
    "            f_i = f_i_prime\n",
    "        # Store updated chain\n",
    "        p_k_MH[q] = p_k\n",
    "        return p_k_MH\n",
    "```\n",
    "\n",
    "This algorithm results in a two dimensional array $\\{p_{l, q}\\}^{MH}$ holding the unbiased distribution of counts\n",
    "in bin $l$ of the discretized collective parameters for step $q$ of the Markov Chain, and equation \\ref{eq:48}\n",
    "gives the resulting free energy surfaces sampled from the the posterior distribution of these surfaces. We\n",
    "visualize the progression of this chain by plotting the log of the sampled posterior distribution (log likelihood\n",
    "in the case of a uniform prior) versus the its MCMC step. After discarding the burn-in time, this value will\n",
    "fluctuate about a steady value, at which point the sampled posterior distribution has converged to the true\n",
    "posterior. One can then compute correlation lengths and infer uncertainties from the statistics of this resulting\n",
    "distribution.\n",
    "\n",
    "Finally, in order to visually compare the FES pedicted by a single maximum posterior estimate and the\n",
    "distribution of those predicted by MCMC, the additive constants $C$ and $C_q$ need to be set such that the\n",
    "landscapes predicted by each method are aligned. Ferguson does this by setting each additive constant such that\n",
    "it's corresponding FES has zero mean, i.e:\n",
    "\n",
    "\\begin{equation}\n",
    "C: \\quad \\sum_{l = 1}^M F_l^{MAP} = 0, \\qquad C_q: \\quad \\sum_{l = 1}^M F_{l, q}^{MH} = 0\n",
    "\\end{equation}"
   ]
  },
  {
   "cell_type": "markdown",
   "id": "frank-jaguar",
   "metadata": {},
   "source": [
    "# Application\n",
    "## Alanine dipeptide"
   ]
  },
  {
   "cell_type": "markdown",
   "id": "different-railway",
   "metadata": {},
   "source": [
    "We now consider applications of the previously described Bayesian reformulation of the WHAM analysis method\n",
    "to umbrella sampled MD trajectories, beginning first with the data set included in Ferguson's original codebase,\n",
    "`diala_phi_EXAMPLE`. This data set corresponds to the trajectory of alanine dipeptide umbrella sampled with a\n",
    "one dimensional collective order parameter: the dihedral bond angle $\\phi$. Alanine dipeptide is a typical system\n",
    "system used in molecular simulations to model dihedral angles, torsion angles along a polypeptide main chain\n",
    "defined by four sequentially bonded atoms. Any dihedral angle is thus defined by the angle between two planes,\n",
    "both of which pass through the same central bond, but one of which is aligned with the next side-chain along the\n",
    "given central bond. The dihedral $\\phi$ of a polypeptide is then defined by setting the central bond to that\n",
    "between the amide nitrogen of residue $i$ and the alpha carbon of residue $i$ and the side chain to that subtended\n",
    "by the acyl carbon of residue $i$ to that of of residue $i - 1$, where residues correspond to amino acids.\n",
    "(Mironov et. al). The dihedral angles are also of interest here since they are experimentally\n",
    "measureable from X-ray crystallography experiments through the use of Ramachandra plots. Ferguson's work provides\n",
    "a visualization of these angles for alanine dipeptide, included below:\n",
    "\n",
    "![Phi](images/phi_dihedral.png)\n",
    "\n",
    "Returning to the data set, input files include `diala_phi_EXAMPLE/harmonic_biases.txt` which includes $18$ bias\n",
    "potentials specified by their index, central location of the bias $\\phi$ angle in degrees, and the force constant\n",
    "used for this harmonic bias potential in kJ/(mol deg$^2$). We then have\n",
    "`diala_phi_EXAMPLE/hist/hist_binEdges.txt` which defines the $M$ bins used in the discretization of our collective\n",
    "parameter $\\phi$. Ferguson then performed biased MD simulations using the Gromacs 4 simulation package and\n",
    "generated $18$ biased trajectories of the dihedral $\\phi$ angle, the data for which is found in\n",
    "`diala_phi_EXAMPLE/traj`. He then compiles the biased bin counts (our data for this Bayesian analysis) in each\n",
    "bin defined in `hist_binEdges.txt` for each simulation in files `diala_phi_EXAMPLE/hist/hist_i.txt`."
   ]
  },
  {
   "cell_type": "markdown",
   "id": "sonic-federation",
   "metadata": {},
   "source": [
    "As an initial benchmark, we run Ferguson's analysis scripts `BayesWHAM.py` to generate the a free energy surface\n",
    "predicted from by the maximum posterior distribution of these surfaces, quantify uncertainties in this estimate\n",
    "using the previously described MCMC procedure to generate realizations of this distribution, and plot the time\n",
    "series of the log of this distribution to determine its steady state. We do so using a simple `bash` script\n",
    "`run_bayeswham.sh` that defines input parameters, activates the necessary `conda` environment, and calls\n",
    "`BayesWHAM.py`. Input parameters include the dimensionality of our collective parameters (in this case $1$),\n",
    "a periodicty flag indicating that these simulations were performed using periodic boundary condition with\n",
    "period set to the range of the histogram bins, and the following numerical parameters:\n",
    "\n",
    "| Parameter   | Description | Value |\n",
    "| ----------- | ----------- | ----- |\n",
    "| `T`      | Temperature (K)  | `298` |\n",
    "| `tol_WHAM`   | Tolerance in iterative solution for $\\{p_l\\}^{MAP}$ | `1e-15` |\n",
    "| `maxIter_WHAM`   | Maximum number of iterations in solution for $\\{p_l\\}^{MAP}$ if non-convergent | `1e6` |\n",
    "| `steps_MH`   | Number of MH steps | `1e6` |\n",
    "| `saveMod_MH`   | Save frequency of MH steps | `1e3` |\n",
    "| `printMod_MH`   | Print frequency of MH steps | `1e3` |\n",
    "| `maxDpStep_MH`   | Maximum step size in MH steps, tune to achieve a ~10-50% acceptence ratio | `5e-4` |\n",
    "\n",
    "Finally, we include a random seed to generate reproducible results, and set the `prior` flag to `\"none\"` to\n",
    "consider a uniform prior distribution. For this reason, the maximum posterior distribution of unbiased counts\n",
    "is identical to the maximum likelihood distribution, and the log posterior is simply the log likelihood."
   ]
  },
  {
   "cell_type": "code",
   "execution_count": 153,
   "id": "aggressive-journalist",
   "metadata": {},
   "outputs": [],
   "source": [
    "# Imports\n",
    "import matplotlib.pyplot as plt\n",
    "import numpy as np\n",
    "import os\n",
    "from scipy.signal import argrelextrema\n",
    "import subprocess\n",
    "\n",
    "# Use Tim's style guide\n",
    "plt.style.use(\"config/phys240.mplstyle\")"
   ]
  },
  {
   "cell_type": "code",
   "execution_count": 43,
   "id": "settled-pontiac",
   "metadata": {},
   "outputs": [
    {
     "data": {
      "text/plain": [
       "CompletedProcess(args='mv *.txt data_out_uniformPrior/', returncode=0)"
      ]
     },
     "execution_count": 43,
     "metadata": {},
     "output_type": "execute_result"
    }
   ],
   "source": [
    "# Bash script to Ferguson's original analysis scripts (written in python2.7)\n",
    "subprocess.run([\"./run_bayeswham.sh\"])\n",
    "\n",
    "# Clean up output files\n",
    "subprocess.run(\"mv *.txt data_out_uniformPrior/\", shell=True)"
   ]
  },
  {
   "cell_type": "code",
   "execution_count": 44,
   "id": "spiritual-vienna",
   "metadata": {},
   "outputs": [],
   "source": [
    "# Create plot of unbiased free energy landscape (FES)\n",
    "# First get binCenters\n",
    "binC = []\n",
    "f__hist_binCenters = os.path.join(\"data_out_uniformPrior\", \"hist_binCenters.txt\")\n",
    "with open(f__hist_binCenters, \"r\") as fin:\n",
    "    for line in fin:\n",
    "        binC.append(line.strip().split())\n",
    "binC = [[float(y) for y in x] for x in binC]  # note this process scales with higher dimensional collective params\n",
    "binC = np.array(binC)"
   ]
  },
  {
   "cell_type": "code",
   "execution_count": 45,
   "id": "patient-image",
   "metadata": {},
   "outputs": [],
   "source": [
    "# Load betaF_MAP estimate\n",
    "f__betaF_MAP = os.path.join(\"data_out_uniformPrior\", \"betaF_MAP.txt\")\n",
    "fin = open(f__betaF_MAP, \"r\")\n",
    "line = fin.readline()\n",
    "betaF_MAP = line.strip().split()\n",
    "betaF_MAP = [float(x) for x in betaF_MAP]\n",
    "betaF_MAP = np.array(betaF_MAP)\n",
    "fin.close()"
   ]
  },
  {
   "cell_type": "code",
   "execution_count": 46,
   "id": "advance-duncan",
   "metadata": {},
   "outputs": [
    {
     "data": {
      "image/png": "[encoded data removed]",
      "text/plain": [
       "<Figure size 432x288 with 1 Axes>"
      ]
     },
     "metadata": {
      "needs_background": "light"
     },
     "output_type": "display_data"
    }
   ],
   "source": [
    "# Plot betaF_MAP vs binCenters (phi)\n",
    "plt.plot(binC[0], betaF_MAP)\n",
    "plt.xlabel(r\"Dihedral Angle, $\\phi$, $(^\\circ)$\")\n",
    "plt.xticks(np.arange(-180, 181, 60))\n",
    "plt.ylabel(r\"Free Energy Surface, $\\beta F(\\phi)$\")\n",
    "plt.title(r\"Maximum Likelihood Estimate of $\\beta F(\\phi)$\")\n",
    "plt.show()"
   ]
  },
  {
   "cell_type": "code",
   "execution_count": 47,
   "id": "durable-participant",
   "metadata": {},
   "outputs": [],
   "source": [
    "f__betaF_MH = os.path.join(\"data_out_uniformPrior\", \"betaF_MH.txt\")\n",
    "\n",
    "betaF_MH = []\n",
    "with open(f__betaF_MH, \"r\") as fin:\n",
    "    for line in fin:\n",
    "        betaF_MH.append(line.strip().split())\n",
    "betaF_MH = [[float(y) for y in x] for x in betaF_MH]\n",
    "betaF_MH = np.array(betaF_MH)"
   ]
  },
  {
   "cell_type": "code",
   "execution_count": 139,
   "id": "incorrect-point",
   "metadata": {},
   "outputs": [
    {
     "data": {
      "image/png": "[encoded data removed]",
      "text/plain": [
       "<Figure size 432x288 with 1 Axes>"
      ]
     },
     "metadata": {
      "needs_background": "light"
     },
     "output_type": "display_data"
    }
   ],
   "source": [
    "# Plot betaF_MH -> Realizations of the full posterior distribution\n",
    "nSamples_MH = betaF_MH.shape[0]\n",
    "for k in range(0,nSamples_MH):\n",
    "    if k == 0:\n",
    "        plt.plot(binC[0], betaF_MH[k, :], color=\"0.5\", lw=0.5, label=\"MH Estimate\")\n",
    "    else:\n",
    "        plt.plot(binC[0], betaF_MH[k, :], color=\"0.5\", lw=0.5)\n",
    "plt.plot(binC[0], betaF_MAP, \"r\", lw=0.5, label=\"ML Estimate\")\n",
    "plt.xlabel(r\"Dihedral Angle, $\\phi$, $(^\\circ)$\")\n",
    "plt.ylabel(r\"Free Energy Surface, $\\beta F(\\phi)$\")\n",
    "plt.title(\"Metropolis Hastings Sampling of Likelihood Distribution\")\n",
    "plt.xticks(np.arange(-180, 181, 60))\n",
    "plt.legend(bbox_to_anchor=(1.05, 1.0), loc=\"upper left\")\n",
    "plt.show()"
   ]
  },
  {
   "cell_type": "code",
   "execution_count": 49,
   "id": "interim-knowing",
   "metadata": {},
   "outputs": [],
   "source": [
    "# Load log likelihood vs MH step and plot\n",
    "step_MH = []\n",
    "f__step_MH = os.path.join(\"data_out_uniformPrior\", \"step_MH.txt\")\n",
    "with open(f__step_MH, \"r\") as fin:\n",
    "    for line in fin:\n",
    "        step_MH.append(int(line))\n",
    "step_MH = np.array(step_MH)\n",
    "\n",
    "logL_MH = []\n",
    "f__logL_MH = os.path.join(\"data_out_uniformPrior\", \"logL_MH.txt\")\n",
    "with open(f__logL_MH, \"r\") as fin:\n",
    "    for line in fin:\n",
    "        logL_MH.append(float(line))\n",
    "logL_MH = np.array(logL_MH)"
   ]
  },
  {
   "cell_type": "code",
   "execution_count": 50,
   "id": "about-throw",
   "metadata": {},
   "outputs": [
    {
     "data": {
      "image/png": "[encoded data removed]",
      "text/plain": [
       "<Figure size 432x288 with 1 Axes>"
      ]
     },
     "metadata": {
      "needs_background": "light"
     },
     "output_type": "display_data"
    }
   ],
   "source": [
    "# Plot logL_MH vs step_MH\n",
    "plt.plot(step_MH, logL_MH)\n",
    "plt.xlabel(\"Metropolis-Hastings Step\")\n",
    "plt.ylabel(r\"Log Likelihood, $\\ln{\\mathcal{L}}$\")\n",
    "plt.show()"
   ]
  },
  {
   "cell_type": "markdown",
   "id": "imperial-consensus",
   "metadata": {},
   "source": [
    "In order to computer statistics on our Markov Chain of free energy surfaces, we must first discard the burn-in\n",
    "and compute the correlation length. From the time series plot of the log likelihood, we see oscillation about\n",
    "a log likelihood of roughly $-12860$ by step $4 \\times 10^6$ of our Markov chain, so we set the burn-in time as:\n",
    "$$\n",
    "n_{burn} = 4 \\times 10^6 \\text{ steps}\n",
    "$$\n",
    "\n",
    "After discarding the burn-in we can compute the correlation length in two ways. First, we can divide our chain\n",
    "into many segments of length $n$ steps. We then define the correlation length $n_{corr}$ as the $n$ which\n",
    "satisfies:\n",
    "\n",
    "$$\n",
    "\\frac{1}{2}\\sigma_c^2 = \\langle \\sigma_n^2 \\rangle\n",
    "$$\n",
    "\n",
    "Where $\\sigma_c^2$ is the variance of the entire chain and $\\langle \\sigma_n^2 \\rangle$ is the average variance\n",
    "over the subchains of length $n$. Next, we can estimate the correlation length using the autocorrelation function:\n",
    "\n",
    "$$\n",
    "f(x, n) = \\frac{1}{N}\\sum_{i=1}^N \\frac{(x_{i+n} - x_i)^2}{\\langle x^2 \\rangle - \\langle x\\rangle^2}\n",
    "$$\n",
    "\n",
    "We then take the correlation length to be the $n$ for which $f(x, n) = 1$. With an estimate of the correlation\n",
    "length, we can store every $n_{corr}^{\\text{th}}$ step of our chain resulting in a collection of independent and\n",
    "identically distributed draws from the posterior distribution for which we can perform statistics (a process known\n",
    "as chain thinning)."
   ]
  },
  {
   "cell_type": "code",
   "execution_count": 99,
   "id": "common-joshua",
   "metadata": {},
   "outputs": [
    {
     "name": "stdout",
     "output_type": "stream",
     "text": [
      "Subchain Variances:\n",
      "Correlation Length (Steps): 88\n",
      "Number of Effective Points: 113636.36363636363\n",
      "(1/2)Var(Full Chain): 22.32195578971354\n",
      "<Var(Subchains)> at Correlation Length: 22.33089186538022\n"
     ]
    }
   ],
   "source": [
    "# Discard burn-in\n",
    "SAVE_MOD_MH = 1e3\n",
    "STEPS_MH = 1e7\n",
    "n_burn = .4e7\n",
    "n_burn_idx = int(n_burn*SAVE_MOD_MH/STEPS_MH)\n",
    "step_MH_burned = step_MH[n_burn_idx:]\n",
    "logL_MH_burned = logL_MH[n_burn_idx:]\n",
    "\n",
    "# Calculate Correlation length: first by dividing chain into subchains of length n\n",
    "def find_corr_length(param, n_vals):\n",
    "    var_subchain_avgs = np.zeros(len(n_vals))\n",
    "    for i in range(len(n_vals)):\n",
    "        # Need to split evenly, get remainder of total burned chaiend\n",
    "        # divided by n, remove this many elements from the front\n",
    "        remain = len(param) % n_vals[i]\n",
    "        subchains = np.asarray(np.split(param[remain:], len(param[remain:]) // n_vals[i]))\n",
    "        subchain_vars = np.var(subchains, axis=1)\n",
    "        var_subchain_avgs[i] = np.mean(subchain_vars)\n",
    "    # Find correlation length\n",
    "    # Quick stack overflow trick, TODO: break down\n",
    "    corr_length_idx = (np.abs(var_subchain_avgs - tot_var/2)).argmin()\n",
    "    return (corr_length_idx, var_subchain_avgs)\n",
    "\n",
    "n_vals = np.arange(1, len(step_MH_burned))\n",
    "tot_var = np.var(logL_MH_burned)\n",
    "\n",
    "# Find correlation length and effective number of points\n",
    "corr_length_idx, var_subchain_avgs = find_corr_length(logL_MH_burned, n_vals)\n",
    "corr_length = n_vals[corr_length_idx]\n",
    "N_eff = STEPS_MH/corr_length\n",
    "print(\"Subchain Variances:\")\n",
    "print(\"Correlation Length (Steps):\", corr_length)\n",
    "print(\"Number of Effective Points:\", N_eff)\n",
    "print(\"(1/2)Var(Full Chain):\", tot_var/2)\n",
    "print(\"<Var(Subchains)> at Correlation Length:\", var_subchain_avgs[corr_length_idx])"
   ]
  },
  {
   "cell_type": "code",
   "execution_count": 100,
   "id": "genetic-opportunity",
   "metadata": {},
   "outputs": [
    {
     "data": {
      "image/png": "[encoded data removed]",
      "text/plain": [
       "<Figure size 432x288 with 1 Axes>"
      ]
     },
     "metadata": {
      "needs_background": "light"
     },
     "output_type": "display_data"
    }
   ],
   "source": [
    "# Subchain variance plot\n",
    "f, ax = plt.subplots()\n",
    "ax.plot(n_vals, var_subchain_avgs)\n",
    "ax.axhline(y=tot_var, color='r', linestyle='--', label=r\"Full Chain Variance, $\\sigma_c^2$\")\n",
    "ax.axhline(y=tot_var/2, color='g', linestyle='-.', label=r\"$\\frac{1}{2}\\sigma_c^2$\")\n",
    "ax.legend(bbox_to_anchor=(1.05, 1.0), loc=\"upper left\")\n",
    "ax.set_xlabel(r\"Subchain Length, $n$\")\n",
    "ax.set_ylabel(r\"Avg. Subchain Variance, $\\langle \\sigma_n^2 \\rangle$\")\n",
    "ax.annotate(\"Correlation Length = {} Steps\".format(corr_length), xy=(2000, 10))\n",
    "ax.annotate(\"Number of Effective Points = {}\".format(int(N_eff)), xy=(500, 6))\n",
    "plt.show()"
   ]
  },
  {
   "cell_type": "code",
   "execution_count": 101,
   "id": "frozen-equilibrium",
   "metadata": {},
   "outputs": [],
   "source": [
    "# Determine correlation length using autocorrelation function:\n",
    "def autocorr(x, n):\n",
    "    \"\"\"\n",
    "    x : np.array\n",
    "    n : int\n",
    "    \"\"\"\n",
    "    N = len(x)\n",
    "    tot = 0\n",
    "    tot_var = np.var(x)\n",
    "    for i in range(0, N - n):\n",
    "        tot += (x[i + n] - x[i])**2/tot_var\n",
    "    result = tot/N\n",
    "    return result\n",
    "\n",
    "autocorr_vals = np.zeros(len(n_vals))\n",
    "for i in range(len(n_vals)):\n",
    "    autocorr_n = autocorr(logL_MH_burned, n_vals[i])\n",
    "    autocorr_vals[i] = autocorr_n"
   ]
  },
  {
   "cell_type": "code",
   "execution_count": 103,
   "id": "twenty-vinyl",
   "metadata": {},
   "outputs": [
    {
     "name": "stdout",
     "output_type": "stream",
     "text": [
      "Autocorrelation Function:\n",
      "Correlation Length 6462\n",
      "Number of Effective Points: 113636.36363636363\n",
      "f(x, n_corr): 0.9998625905330232\n"
     ]
    }
   ],
   "source": [
    "# Find n for which f(x, n) = 1\n",
    "autocorr_len_idx = (np.abs(autocorr_vals - 1)).argmin()\n",
    "autocorr_len = n_vals[autocorr_len_idx]\n",
    "autocorr_N_eff = STEPS_MH/autocorr_len\n",
    "print(\"Autocorrelation Function:\")\n",
    "print(\"Correlation Length\", autocorr_len)\n",
    "print(\"Number of Effective Points:\", N_eff)\n",
    "print(\"f(x, n_corr):\", autocorr_vals[autocorr_len_idx])"
   ]
  },
  {
   "cell_type": "markdown",
   "id": "sapphire-archives",
   "metadata": {},
   "source": [
    "The correlation length predicted by dividing the chain into many subchains seems reasonable, while that predicted\n",
    "by the autocorrelation function appears to be too large. This could be due to the fact that we should consider\n",
    "variances in model parameters rather than variances in the log likelihood itself. For this MCMC analysis, our\n",
    "model parameters essentially consist of unbiased bin counts of alanine dipeptide configurations having a\n",
    "particular value of $\\phi$ in our discretized coordinates. We could compute the variance of every bin count\n",
    "over the chain, but it is of greater physical interest to consider the distribution of local minima in our\n",
    "unbiased FES over our Metropolis Hastings samples, as these correspond to stable polypeptide conformations. We\n",
    "consider both these measurements of uncertainty in our free energy surface below."
   ]
  },
  {
   "cell_type": "markdown",
   "id": "played-murray",
   "metadata": {},
   "source": [
    "### Uncertainty in Free Energy Landscape"
   ]
  },
  {
   "cell_type": "code",
   "execution_count": 143,
   "id": "demographic-array",
   "metadata": {},
   "outputs": [
    {
     "data": {
      "image/png": "[encoded data removed]",
      "text/plain": [
       "<Figure size 432x288 with 1 Axes>"
      ]
     },
     "metadata": {
      "needs_background": "light"
     },
     "output_type": "display_data"
    }
   ],
   "source": [
    "# Plot MAP estimate of F with error bars computed from uncertainties in burned chain\n",
    "# betaF_MH : rows = MH samples, cols = unbiased bin values of F\n",
    "# discard burn-in\n",
    "betaF_MH_burned = betaF_MH[n_burn_idx:][:]\n",
    "\n",
    "# Compute standard deviations over burned bin counts\n",
    "betaF_MH_uncert = np.std(betaF_MH_burned, axis=0)\n",
    "betaF_MH_uncert\n",
    "\n",
    "plt.errorbar(binC[0], betaF_MAP, yerr=betaF_MH_uncert,\n",
    "             ecolor=\"red\", barsabove=True, capsize=2.5,\n",
    "             elinewidth=1, label=r\"$F^{ML} \\pm \\sigma_F^{MH}$\")\n",
    "plt.xlabel(r\"Dihedral Angle, $\\phi$, $(^\\circ)$\")\n",
    "plt.ylabel(r\"Free Energy Surface, $\\beta F(\\phi)$\")\n",
    "plt.xticks(np.arange(-180, 181, 60))\n",
    "plt.legend(bbox_to_anchor=(1.05, 1.0), loc=\"upper left\")\n",
    "plt.show()"
   ]
  },
  {
   "cell_type": "markdown",
   "id": "acting-stroke",
   "metadata": {},
   "source": [
    "### Uncertainty in Free Energy Minima\n",
    "We now consider determine the minima of the maximum likelihood predicted free energy surface and the uncertainty\n",
    "in these parameters from our Metropolis-Hastings sampling of the distribution of surfaces"
   ]
  },
  {
   "cell_type": "code",
   "execution_count": 224,
   "id": "worst-chosen",
   "metadata": {},
   "outputs": [
    {
     "name": "stdout",
     "output_type": "stream",
     "text": [
      "Min Idx: [ 5  7 19 52]\n",
      "betaF: [-6.71126 -6.91662 -7.33145  0.57241]\n",
      "Phi: [-152.5 -142.5  -82.5   82.5]\n",
      "\n",
      "Min Idx: [ 6 19 52 61]\n",
      "betaF: [-6.81003  -7.21071   0.592881  7.13207 ]\n",
      "Phi: [-147.5  -82.5   82.5  127.5]\n",
      "\n",
      "Min Idx: [ 6 12 18 37 52]\n",
      "betaF: [-6.81534  -5.20689  -7.33181   9.41513   0.564285]\n",
      "Phi: [-147.5 -117.5  -87.5    7.5   82.5]\n",
      "\n",
      "Min Idx: [ 6 19 37 52]\n",
      "betaF: [-6.86783 -7.28323  9.23025  0.49599]\n",
      "Phi: [-147.5  -82.5    7.5   82.5]\n",
      "\n"
     ]
    }
   ],
   "source": [
    "# Find minima in MAP=ML estimate of FES\n",
    "minima_MAP_idx = argrelextrema(betaF_MAP, np.less)\n",
    "stable_phi_MAP = binC[0][minima_MAP_idx[0]]\n",
    "#stable_phi_MAP\n",
    "# Repeat for burned MH estimates -> uncertainty in stable phi angles\n",
    "n_MH_burned = betaF_MH_burned.shape[0]\n",
    "stable_phi_MH = np.zeros((n_MH_burned, len(stable_phi_MAP)))\n",
    "for i in range(n_MH_burned):\n",
    "    minima_idx = argrelextrema(betaF_MH[i, :], np.less)\n",
    "    if minima_idx[0].shape[0] > 3:\n",
    "        \n",
    "#        idxs = minima_idx[0]\n",
    "#        n_result = idxs.shape[0]\n",
    "#        # Filter the result of argrelextrema, take 3 lowest angles\n",
    "        betaF_MH_vals = betaF_MH_burned[i, minima_idx[0]]\n",
    "        phi_vals = binC[0][minima_idx[0]]\n",
    "        if i % 1000 == 0:\n",
    "            print(\"Min Idx:\", minima_idx[0])\n",
    "            print(\"betaF:\", betaF_MH_vals)\n",
    "            print(\"Phi:\", phi_vals)\n",
    "            print(\"\")\n",
    "#        idx_filt = []\n",
    "#        for j in range(0, 3):\n",
    "#            if idxs[j+1] - idxs[j] <= 6:\n",
    "#                # Compare the two energies and take the lower\n",
    "#                e1 = betaF_MH_vals[j+1]\n",
    "#                e2 = betaF_MH_vals[j]\n",
    "#                if e1 < e2:\n",
    "#                    idx_filt.append(idxs[j+1])\n",
    "#                else:\n",
    "#                    idx_filt.append(idxs[j])\n",
    "#            else:\n",
    "#                idx_filt.append(idxs[j])\n",
    "#        minima_idx = [idx_filt]\n",
    "#    stable_phi_MH[i, :] = binC[0][minima_idx[0]]\n",
    "\n",
    "#stable_phi_MH"
   ]
  },
  {
   "cell_type": "markdown",
   "id": "applicable-spanish",
   "metadata": {},
   "source": [
    "We see that `scipy.signal.argrelextrema` is returning more than three stable dihedral $\\phi$ angles for some of\n",
    "the Metropolis-Hastings sampled free energy landscapes. This does not seem reasonable given the initial of the\n",
    "sampled landscapes, and so we formulate our own minimization routine by searching over an initial guesses ranges\n",
    "of $\\phi$ centered around the expected stable angles."
   ]
  },
  {
   "cell_type": "code",
   "execution_count": null,
   "id": "minute-brave",
   "metadata": {},
   "outputs": [],
   "source": [
    "def find_betaF_min(phi, betaF):\n",
    "    pass"
   ]
  },
  {
   "cell_type": "code",
   "execution_count": 192,
   "id": "unusual-niger",
   "metadata": {},
   "outputs": [
    {
     "data": {
      "text/plain": [
       "array([-147.5,  -82.5,   82.5])"
      ]
     },
     "execution_count": 192,
     "metadata": {},
     "output_type": "execute_result"
    }
   ],
   "source": [
    "stable_phi_MAP"
   ]
  },
  {
   "cell_type": "code",
   "execution_count": 210,
   "id": "color-courage",
   "metadata": {},
   "outputs": [
    {
     "name": "stdout",
     "output_type": "stream",
     "text": [
      "-147.5\n",
      "-82.5\n",
      "-5.29676\n",
      "-7.2385\n"
     ]
    }
   ],
   "source": [
    "print(binC[0][6])\n",
    "print(binC[0][19])\n",
    "print(betaF_MH[56, 12])\n",
    "print(betaF_MH[56, 19])"
   ]
  },
  {
   "cell_type": "markdown",
   "id": "suitable-moore",
   "metadata": {},
   "source": [
    "## References:\n",
    "Ferguson, A.L., \"BayesWHAM: A Bayesian approach for free energy estimation, reweighting, and uncertainty quantification in the weighted histogram analysis method\" J. Comput. Chem. 38 18 1583-1605 (2017)\n",
    "\n",
    "Mironov, V., Alexeev, Y., Mulligan, V. K., Fedorov, D. G., \"A systematic study of minima in alanine dipeptide\" J. Comput. Chem. 2019, 40, 297– 309. DOI: 10.1002/jcc.25589"
   ]
  },
  {
   "cell_type": "code",
   "execution_count": 157,
   "id": "modular-worker",
   "metadata": {},
   "outputs": [
    {
     "data": {
      "text/plain": [
       "15.0"
      ]
     },
     "execution_count": 157,
     "metadata": {},
     "output_type": "execute_result"
    }
   ],
   "source": [
    "60/4"
   ]
  },
  {
   "cell_type": "code",
   "execution_count": 105,
   "id": "exclusive-temperature",
   "metadata": {},
   "outputs": [
    {
     "data": {
      "text/plain": [
       "array([[1, 2, 3],\n",
       "       [4, 5, 6],\n",
       "       [7, 8, 9]])"
      ]
     },
     "execution_count": 105,
     "metadata": {},
     "output_type": "execute_result"
    }
   ],
   "source": [
    "test = np.asarray([[1,2,3],\n",
    "                   [4,5,6],\n",
    "                   [7,8,9]])\n",
    "test"
   ]
  },
  {
   "cell_type": "code",
   "execution_count": 111,
   "id": "hairy-pencil",
   "metadata": {},
   "outputs": [],
   "source": [
    "test2 = test[1:][:]"
   ]
  },
  {
   "cell_type": "code",
   "execution_count": 112,
   "id": "round-facial",
   "metadata": {},
   "outputs": [
    {
     "data": {
      "text/plain": [
       "array([[4, 5, 6],\n",
       "       [7, 8, 9]])"
      ]
     },
     "execution_count": 112,
     "metadata": {},
     "output_type": "execute_result"
    }
   ],
   "source": [
    "test2"
   ]
  },
  {
   "cell_type": "code",
   "execution_count": 169,
   "id": "spatial-knight",
   "metadata": {},
   "outputs": [
    {
     "data": {
      "text/plain": [
       "array([[1, 2, 3],\n",
       "       [1, 1, 1],\n",
       "       [7, 8, 9]])"
      ]
     },
     "execution_count": 169,
     "metadata": {},
     "output_type": "execute_result"
    }
   ],
   "source": [
    "test[1, :] = [1, 1, 1]\n",
    "test"
   ]
  },
  {
   "cell_type": "code",
   "execution_count": 115,
   "id": "sitting-buffer",
   "metadata": {},
   "outputs": [
    {
     "data": {
      "text/plain": [
       "1.5"
      ]
     },
     "execution_count": 115,
     "metadata": {},
     "output_type": "execute_result"
    }
   ],
   "source": [
    "np.std([5, 8])"
   ]
  },
  {
   "cell_type": "code",
   "execution_count": null,
   "id": "brown-concert",
   "metadata": {},
   "outputs": [],
   "source": []
  },
  {
   "cell_type": "code",
   "execution_count": null,
   "id": "miniature-garbage",
   "metadata": {},
   "outputs": [],
   "source": []
  },
  {
   "cell_type": "code",
   "execution_count": 70,
   "id": "published-ukraine",
   "metadata": {},
   "outputs": [
    {
     "data": {
      "text/plain": [
       "350.0"
      ]
     },
     "execution_count": 70,
     "metadata": {},
     "output_type": "execute_result"
    }
   ],
   "source": [
    "3.5e6/10000"
   ]
  },
  {
   "cell_type": "code",
   "execution_count": 71,
   "id": "mature-argentina",
   "metadata": {},
   "outputs": [
    {
     "data": {
      "text/plain": [
       "351000"
      ]
     },
     "execution_count": 71,
     "metadata": {},
     "output_type": "execute_result"
    }
   ],
   "source": [
    "step_MH[350]"
   ]
  },
  {
   "cell_type": "code",
   "execution_count": null,
   "id": "saved-sheffield",
   "metadata": {},
   "outputs": [],
   "source": []
  }
 ],
 "metadata": {
  "kernelspec": {
   "display_name": "Python 3",
   "language": "python",
   "name": "python3"
  },
  "language_info": {
   "codemirror_mode": {
    "name": "ipython",
    "version": 3
   },
   "file_extension": ".py",
   "mimetype": "text/x-python",
   "name": "python",
   "nbconvert_exporter": "python",
   "pygments_lexer": "ipython3",
   "version": "3.8.3"
  }
 },
 "nbformat": 4,
 "nbformat_minor": 5
}
